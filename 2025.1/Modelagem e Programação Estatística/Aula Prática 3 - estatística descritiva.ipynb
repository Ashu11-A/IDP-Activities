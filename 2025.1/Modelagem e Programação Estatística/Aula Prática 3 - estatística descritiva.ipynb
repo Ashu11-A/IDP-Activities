{
 "cells": [
  {
   "cell_type": "markdown",
   "metadata": {},
   "source": [
    "## Voltando à tabela de salários\n",
    "\n",
    "A partir dos tópicos estudados de estatística descritiva, analise as variáveis do arquivo TabelaSalarial.csv.\n",
    "\n",
    "1) Calcule as medidas de centralidade e dispersão das variáveis;\n",
    "\n",
    "2) Plote histogramas de todas as variáveis;\n",
    "\n",
    "3) Faça o boxplot de todas as variáveis.\n",
    "\n",
    "4) Escreva uma análise de todas as variáveis, no formato texto corrido, com as informações que vocês geraram nos itens anteriores (Procurem escrever um texto como se estivessem apresentando as informações para uma pessoa leiga)\n",
    "\n",
    "O prazo final para entrega desta atividade é dia 21 de agosto, quarta-feira, às 23h59"
   ]
  },
  {
   "cell_type": "code",
   "execution_count": null,
   "metadata": {},
   "outputs": [],
   "source": [
    "%pip install numpy\n",
    "%pip install matplotlib\n",
    "%pip install pandas\n",
    "%pip install seaborn"
   ]
  },
  {
   "cell_type": "code",
   "execution_count": null,
   "metadata": {},
   "outputs": [],
   "source": [
    "import matplotlib.pyplot as plt\n",
    "import pandas as pd\n",
    "import seaborn as sns\n",
    "import numpy as np"
   ]
  },
  {
   "cell_type": "code",
   "execution_count": null,
   "metadata": {},
   "outputs": [],
   "source": [
    "df = pd.read_csv('TabelaSalarial.csv')\n",
    "df = df.select_dtypes(include=np.number) # seleciona apenas os dados numericos\n",
    "df = df.drop('N', axis=1) # Remove os ids da tabela"
   ]
  },
  {
   "cell_type": "code",
   "execution_count": null,
   "metadata": {},
   "outputs": [],
   "source": [
    "dados = []\n",
    "\n",
    "for coluna in df.columns:\n",
    "  media = df[coluna].mean()\n",
    "  mediana = df[coluna].median()\n",
    "  # Para moda, como pode ter mais de um valor, pegamos o primeiro se existir\n",
    "  moda_series = df[coluna].mode()\n",
    "  moda = moda_series.iloc[0] if not moda_series.empty else None\n",
    "  desvio_padrao = df[coluna].std()\n",
    "  variancia = df[coluna].var()\n",
    "  minimo = df[coluna].min()\n",
    "  maximo = df[coluna].max()\n",
    "  \n",
    "  dados.append({\n",
    "    'Variável': coluna,\n",
    "    'Média': media,\n",
    "    'Mediana': mediana,\n",
    "    'Moda': moda,\n",
    "    'Desvio Padrão': desvio_padrao,\n",
    "    'Variância': variancia,\n",
    "    'Mínimo': minimo,\n",
    "    'Máximo': maximo\n",
    "  })\n",
    "\n",
    "result = pd.DataFrame(dados)\n",
    "\n",
    "print(result)"
   ]
  },
  {
   "cell_type": "code",
   "execution_count": null,
   "metadata": {},
   "outputs": [],
   "source": [
    "numVars = len(df.columns)\n",
    "\n",
    "fig, axes = plt.subplots(1, numVars, figsize=(5 * numVars, 4))\n",
    "\n",
    "for ax, col in zip(axes, df.columns):\n",
    "  ax.hist(df[col], bins=20, color='skyblue', edgecolor='black')\n",
    "  ax.set_xlabel(col)\n",
    "  ax.set_ylabel('Frequência')\n",
    "\n",
    "plt.show()"
   ]
  },
  {
   "cell_type": "code",
   "execution_count": null,
   "metadata": {},
   "outputs": [],
   "source": [
    "fig, axes = plt.subplots(nrows=1, ncols=len(df.columns), figsize=(5 * len(df.columns), 5))\n",
    "\n",
    "for ax, col in zip(axes, df.columns):\n",
    "  sns.histplot(x=df[col], ax=ax, bins=20, kde=True)\n",
    "  \n",
    "plt.show()"
   ]
  },
  {
   "cell_type": "code",
   "execution_count": null,
   "metadata": {},
   "outputs": [],
   "source": [
    "fig, axes = plt.subplots(nrows=1, ncols=len(df.columns), figsize=(5 * len(df.columns), 5))\n",
    "\n",
    "for ax, col in zip(axes, df.columns):\n",
    "  sns.boxplot(x=df[col], ax=ax)\n",
    "  ax.set_title(col)\n",
    "\n",
    "plt.tight_layout()\n",
    "plt.show()"
   ]
  },
  {
   "cell_type": "markdown",
   "metadata": {},
   "source": [
    "## Analise dos Gráficos:\n",
    "\n",
    "**Números de filhos:**  \n",
    "A maioria das famílias tem em torno de 2 filhos. Isso fica evidente porque a média é de 1,65 filho, a mediana é 2 e o valor mais frequente (moda) também é 2. Embora exista variação (algumas famílias não têm filhos e outras têm até 5), o ponto central da distribuição mostra que a tendência é ter 2 filhos.\n",
    "\n",
    "**Salários:**  \n",
    "Quando os salários são expressos em múltiplos do salário mínimo, o valor central é de aproximadamente 10 a 11 vezes esse salário. A média é 11,12 e a mediana é 10,17, o que sugere que há alguns salários muito altos que puxam a média para cima. No entanto, o valor mais comum é 4 vezes o salário mínimo, indicando que a maior parte dos trabalhadores recebe essa quantia. Apesar disso, a grande variação (de 4 até 23,3 salários mínimos) demonstra que há diferenças significativas entre os salários dos trabalhadores.\n",
    "\n",
    "**Idade:**  \n",
    "A população analisada é composta majoritariamente por adultos jovens e de meia-idade. A idade média é de 34,6 anos e a mediana é praticamente igual (34,5 anos), o que indica uma distribuição bastante equilibrada. Ainda que a idade mais frequente seja 26 anos, a variação é pequena e os dados abrangem um intervalo entre 20 e 48 anos, reforçando a ideia de uma população concentrada nessa faixa etária.\n",
    "\n",
    "Portanto, podemos afirmar com clareza que, apesar de haver variações em todos os aspectos, a tendência é que as famílias tenham cerca de 2 filhos, a renda dos trabalhadores se concentre em torno de 10 a 11 salários mínimos (com muitos recebendo 4 salários mínimos) e a população seja composta principalmente por adultos com idade entre 20 e 48 anos, com uma média de aproximadamente 35 anos. Essa análise facilita a compreensão das tendências e das diferenças existentes nesses dados, mesmo para aqueles que não possuem conhecimentos avançados em estatística."
   ]
  }
 ],
 "metadata": {
  "kernelspec": {
   "display_name": ".venv",
   "language": "python",
   "name": "python3"
  },
  "language_info": {
   "codemirror_mode": {
    "name": "ipython",
    "version": 3
   },
   "file_extension": ".py",
   "mimetype": "text/x-python",
   "name": "python",
   "nbconvert_exporter": "python",
   "pygments_lexer": "ipython3",
   "version": "3.11.11"
  }
 },
 "nbformat": 4,
 "nbformat_minor": 4
}
